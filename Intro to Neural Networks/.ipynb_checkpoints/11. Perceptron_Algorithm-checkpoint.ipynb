{
 "cells": [
  {
   "cell_type": "markdown",
   "metadata": {},
   "source": [
    "# Udacity Deep Learning Nanodegree - Perceptron Algorithm\n",
    "\n",
    "- Author : Navneet Kumar\n",
    "- Date : 5th June 2020\n",
    "\n",
    "-------"
   ]
  },
  {
   "cell_type": "markdown",
   "metadata": {},
   "source": [
    "Create a perceptron algorithm to segregate the red and blue sections - essentially code the line"
   ]
  },
  {
   "cell_type": "markdown",
   "metadata": {},
   "source": [
    "<img src=\"Ques.jpg\" width=\"500\" height=\"600\">"
   ]
  },
  {
   "cell_type": "markdown",
   "metadata": {},
   "source": [
    "### Code structure provided :"
   ]
  },
  {
   "cell_type": "code",
   "execution_count": null,
   "metadata": {},
   "outputs": [],
   "source": [
    "def perceptronStep(X, y, W, b, learn_rate = 0.01):\n",
    "    for i in range(len(X)):\n",
    "        y_hat = prediction(X[i],W,b)\n",
    "        if y[i]-y_hat == 1:\n",
    "            W[0] += X[i][0]*learn_rate\n",
    "            W[1] += X[i][1]*learn_rate\n",
    "            b += learn_rate\n",
    "        elif y[i]-y_hat == -1:\n",
    "            W[0] -= X[i][0]*learn_rate\n",
    "            W[1] -= X[i][1]*learn_rate\n",
    "            b -= learn_rate\n",
    "    return W, b\n"
   ]
  },
  {
   "cell_type": "markdown",
   "metadata": {},
   "source": [
    "### My Code attempt :"
   ]
  },
  {
   "cell_type": "code",
   "execution_count": 1,
   "metadata": {},
   "outputs": [],
   "source": [
    "import numpy as np\n",
    "import pandas as pd\n",
    "import matplotlib.pyplot as plt\n",
    "import seaborn as sns"
   ]
  },
  {
   "cell_type": "code",
   "execution_count": 2,
   "metadata": {},
   "outputs": [
    {
     "data": {
      "text/html": [
       "<div>\n",
       "<style scoped>\n",
       "    .dataframe tbody tr th:only-of-type {\n",
       "        vertical-align: middle;\n",
       "    }\n",
       "\n",
       "    .dataframe tbody tr th {\n",
       "        vertical-align: top;\n",
       "    }\n",
       "\n",
       "    .dataframe thead th {\n",
       "        text-align: right;\n",
       "    }\n",
       "</style>\n",
       "<table border=\"1\" class=\"dataframe\">\n",
       "  <thead>\n",
       "    <tr style=\"text-align: right;\">\n",
       "      <th></th>\n",
       "      <th>X</th>\n",
       "      <th>Y</th>\n",
       "      <th>Outcome</th>\n",
       "    </tr>\n",
       "  </thead>\n",
       "  <tbody>\n",
       "    <tr>\n",
       "      <th>0</th>\n",
       "      <td>0.78051</td>\n",
       "      <td>-0.063669</td>\n",
       "      <td>1</td>\n",
       "    </tr>\n",
       "    <tr>\n",
       "      <th>1</th>\n",
       "      <td>0.28774</td>\n",
       "      <td>0.291390</td>\n",
       "      <td>1</td>\n",
       "    </tr>\n",
       "    <tr>\n",
       "      <th>2</th>\n",
       "      <td>0.40714</td>\n",
       "      <td>0.178780</td>\n",
       "      <td>1</td>\n",
       "    </tr>\n",
       "    <tr>\n",
       "      <th>3</th>\n",
       "      <td>0.29230</td>\n",
       "      <td>0.421700</td>\n",
       "      <td>1</td>\n",
       "    </tr>\n",
       "    <tr>\n",
       "      <th>4</th>\n",
       "      <td>0.50922</td>\n",
       "      <td>0.352560</td>\n",
       "      <td>1</td>\n",
       "    </tr>\n",
       "  </tbody>\n",
       "</table>\n",
       "</div>"
      ],
      "text/plain": [
       "         X         Y  Outcome\n",
       "0  0.78051 -0.063669        1\n",
       "1  0.28774  0.291390        1\n",
       "2  0.40714  0.178780        1\n",
       "3  0.29230  0.421700        1\n",
       "4  0.50922  0.352560        1"
      ]
     },
     "execution_count": 2,
     "metadata": {},
     "output_type": "execute_result"
    }
   ],
   "source": [
    "df = pd.read_csv(\"Perceptron_Data2.csv\")\n",
    "df.head(5)"
   ]
  },
  {
   "cell_type": "code",
   "execution_count": 3,
   "metadata": {},
   "outputs": [
    {
     "name": "stdout",
     "output_type": "stream",
     "text": [
      "[[0.97033765]\n",
      " [0.51252492]]\n"
     ]
    }
   ],
   "source": [
    "W = np.array(np.random.rand(2,1))\n",
    "print(W)"
   ]
  },
  {
   "cell_type": "code",
   "execution_count": 4,
   "metadata": {},
   "outputs": [
    {
     "data": {
      "text/plain": [
       "0.3734828283485824"
      ]
     },
     "execution_count": 4,
     "metadata": {},
     "output_type": "execute_result"
    }
   ],
   "source": [
    "np.random.rand(1)[0]"
   ]
  },
  {
   "cell_type": "code",
   "execution_count": 5,
   "metadata": {},
   "outputs": [
    {
     "name": "stdout",
     "output_type": "stream",
     "text": [
      "0.0084492 -0.063669\n"
     ]
    }
   ],
   "source": [
    "X_min = df.X.min()\n",
    "Y_min = df.Y.min()\n",
    "print(X_min,Y_min)"
   ]
  },
  {
   "cell_type": "code",
   "execution_count": 6,
   "metadata": {},
   "outputs": [
    {
     "data": {
      "text/plain": [
       "0.78051"
      ]
     },
     "execution_count": 6,
     "metadata": {},
     "output_type": "execute_result"
    }
   ],
   "source": [
    "df.iloc[0,0]\n"
   ]
  },
  {
   "cell_type": "code",
   "execution_count": 7,
   "metadata": {},
   "outputs": [
    {
     "data": {
      "text/html": [
       "<div>\n",
       "<style scoped>\n",
       "    .dataframe tbody tr th:only-of-type {\n",
       "        vertical-align: middle;\n",
       "    }\n",
       "\n",
       "    .dataframe tbody tr th {\n",
       "        vertical-align: top;\n",
       "    }\n",
       "\n",
       "    .dataframe thead th {\n",
       "        text-align: right;\n",
       "    }\n",
       "</style>\n",
       "<table border=\"1\" class=\"dataframe\">\n",
       "  <thead>\n",
       "    <tr style=\"text-align: right;\">\n",
       "      <th></th>\n",
       "      <th>0</th>\n",
       "      <th>1</th>\n",
       "      <th>2</th>\n",
       "      <th>3</th>\n",
       "      <th>4</th>\n",
       "      <th>5</th>\n",
       "      <th>6</th>\n",
       "      <th>7</th>\n",
       "      <th>8</th>\n",
       "      <th>9</th>\n",
       "      <th>...</th>\n",
       "      <th>90</th>\n",
       "      <th>91</th>\n",
       "      <th>92</th>\n",
       "      <th>93</th>\n",
       "      <th>94</th>\n",
       "      <th>95</th>\n",
       "      <th>96</th>\n",
       "      <th>97</th>\n",
       "      <th>98</th>\n",
       "      <th>99</th>\n",
       "    </tr>\n",
       "  </thead>\n",
       "  <tbody>\n",
       "    <tr>\n",
       "      <th>X</th>\n",
       "      <td>0.780510</td>\n",
       "      <td>0.28774</td>\n",
       "      <td>0.40714</td>\n",
       "      <td>0.2923</td>\n",
       "      <td>0.50922</td>\n",
       "      <td>0.27785</td>\n",
       "      <td>0.27527</td>\n",
       "      <td>0.43999</td>\n",
       "      <td>0.33557</td>\n",
       "      <td>0.23448</td>\n",
       "      <td>...</td>\n",
       "      <td>0.68122</td>\n",
       "      <td>0.73229</td>\n",
       "      <td>0.76145</td>\n",
       "      <td>0.58985</td>\n",
       "      <td>0.73145</td>\n",
       "      <td>0.77029</td>\n",
       "      <td>0.73156</td>\n",
       "      <td>0.44556</td>\n",
       "      <td>0.85275</td>\n",
       "      <td>0.51912</td>\n",
       "    </tr>\n",
       "    <tr>\n",
       "      <th>Y</th>\n",
       "      <td>-0.063669</td>\n",
       "      <td>0.29139</td>\n",
       "      <td>0.17878</td>\n",
       "      <td>0.4217</td>\n",
       "      <td>0.35256</td>\n",
       "      <td>0.10802</td>\n",
       "      <td>0.33223</td>\n",
       "      <td>0.31245</td>\n",
       "      <td>0.42984</td>\n",
       "      <td>0.24986</td>\n",
       "      <td>...</td>\n",
       "      <td>0.96541</td>\n",
       "      <td>0.64245</td>\n",
       "      <td>0.60138</td>\n",
       "      <td>0.86955</td>\n",
       "      <td>0.74516</td>\n",
       "      <td>0.70140</td>\n",
       "      <td>0.71782</td>\n",
       "      <td>0.57991</td>\n",
       "      <td>0.85987</td>\n",
       "      <td>0.62359</td>\n",
       "    </tr>\n",
       "    <tr>\n",
       "      <th>Outcome</th>\n",
       "      <td>1.000000</td>\n",
       "      <td>1.00000</td>\n",
       "      <td>1.00000</td>\n",
       "      <td>1.0000</td>\n",
       "      <td>1.00000</td>\n",
       "      <td>1.00000</td>\n",
       "      <td>1.00000</td>\n",
       "      <td>1.00000</td>\n",
       "      <td>1.00000</td>\n",
       "      <td>1.00000</td>\n",
       "      <td>...</td>\n",
       "      <td>0.00000</td>\n",
       "      <td>0.00000</td>\n",
       "      <td>0.00000</td>\n",
       "      <td>0.00000</td>\n",
       "      <td>0.00000</td>\n",
       "      <td>0.00000</td>\n",
       "      <td>0.00000</td>\n",
       "      <td>0.00000</td>\n",
       "      <td>0.00000</td>\n",
       "      <td>0.00000</td>\n",
       "    </tr>\n",
       "  </tbody>\n",
       "</table>\n",
       "<p>3 rows × 100 columns</p>\n",
       "</div>"
      ],
      "text/plain": [
       "               0        1        2       3        4        5        6   \\\n",
       "X        0.780510  0.28774  0.40714  0.2923  0.50922  0.27785  0.27527   \n",
       "Y       -0.063669  0.29139  0.17878  0.4217  0.35256  0.10802  0.33223   \n",
       "Outcome  1.000000  1.00000  1.00000  1.0000  1.00000  1.00000  1.00000   \n",
       "\n",
       "              7        8        9   ...       90       91       92       93  \\\n",
       "X        0.43999  0.33557  0.23448  ...  0.68122  0.73229  0.76145  0.58985   \n",
       "Y        0.31245  0.42984  0.24986  ...  0.96541  0.64245  0.60138  0.86955   \n",
       "Outcome  1.00000  1.00000  1.00000  ...  0.00000  0.00000  0.00000  0.00000   \n",
       "\n",
       "              94       95       96       97       98       99  \n",
       "X        0.73145  0.77029  0.73156  0.44556  0.85275  0.51912  \n",
       "Y        0.74516  0.70140  0.71782  0.57991  0.85987  0.62359  \n",
       "Outcome  0.00000  0.00000  0.00000  0.00000  0.00000  0.00000  \n",
       "\n",
       "[3 rows x 100 columns]"
      ]
     },
     "execution_count": 7,
     "metadata": {},
     "output_type": "execute_result"
    }
   ],
   "source": [
    "df.T"
   ]
  },
  {
   "cell_type": "code",
   "execution_count": 8,
   "metadata": {},
   "outputs": [
    {
     "data": {
      "text/plain": [
       "-0.063669"
      ]
     },
     "execution_count": 8,
     "metadata": {},
     "output_type": "execute_result"
    }
   ],
   "source": [
    "min(df.T[0])"
   ]
  },
  {
   "cell_type": "code",
   "execution_count": null,
   "metadata": {},
   "outputs": [],
   "source": []
  },
  {
   "cell_type": "code",
   "execution_count": null,
   "metadata": {},
   "outputs": [],
   "source": []
  },
  {
   "cell_type": "code",
   "execution_count": 9,
   "metadata": {},
   "outputs": [],
   "source": [
    "import numpy as np\n",
    "# Setting the random seed, feel free to change it and see different solutions.\n",
    "np.random.seed(42)\n",
    "\n",
    "def stepFunction(t):\n",
    "    if t >= 0:\n",
    "        return 1\n",
    "    return 0\n",
    "\n",
    "def prediction(X, W, b):\n",
    "    return stepFunction((np.matmul(X,W)+b)[0])\n",
    "\n",
    "# TODO: Fill in the code below to implement the perceptron trick.\n",
    "# The function should receive as inputs the data X, the labels y,\n",
    "# the weights W (as an array), and the bias b,\n",
    "# update the weights and bias W, b, according to the perceptron algorithm,\n",
    "# and return W and b.\n",
    "def perceptronStep(X, y, W, b, learn_rate = 0.01):\n",
    "    for i in range(len(X)):\n",
    "        y_hat = prediction(X[i],W,b)\n",
    "        if y[i]-y_hat == 1:\n",
    "            W[0] += X[i][0]*learn_rate\n",
    "            W[1] += X[i][1]*learn_rate\n",
    "            b += learn_rate\n",
    "        elif y[i]-y_hat == -1:\n",
    "            W[0] -= X[i][0]*learn_rate\n",
    "            W[1] -= X[i][1]*learn_rate\n",
    "            b -= learn_rate\n",
    "    return W, b\n",
    "    \n",
    "# This function runs the perceptron algorithm repeatedly on the dataset,\n",
    "# and returns a few of the boundary lines obtained in the iterations,\n",
    "# for plotting purposes.\n",
    "# Feel free to play with the learning rate and the num_epochs,\n",
    "# and see your results plotted below.\n",
    "def trainPerceptronAlgorithm(X, y, learn_rate = 0.01, num_epochs = 25):\n",
    "    x_min, x_max = min(X.T[0]), max(X.T[0])\n",
    "    y_min, y_max = min(X.T[1]), max(X.T[1])\n",
    "    W = np.array(np.random.rand(2,1))\n",
    "    b = np.random.rand(1)[0] + x_max\n",
    "    # These are the solution lines that get plotted below.\n",
    "    boundary_lines = []\n",
    "    for i in range(num_epochs):\n",
    "        # In each epoch, we apply the perceptron step.\n",
    "        W, b = perceptronStep(X, y, W, b, learn_rate)\n",
    "        boundary_lines.append((-W[0]/W[1], -b/W[1]))\n",
    "    return boundary_lines\n",
    "\n"
   ]
  },
  {
   "cell_type": "code",
   "execution_count": 12,
   "metadata": {},
   "outputs": [
    {
     "ename": "NameError",
     "evalue": "name 'boundary_lines' is not defined",
     "output_type": "error",
     "traceback": [
      "\u001b[1;31m---------------------------------------------------------------------------\u001b[0m",
      "\u001b[1;31mNameError\u001b[0m                                 Traceback (most recent call last)",
      "\u001b[1;32m<ipython-input-12-4d3523891fa1>\u001b[0m in \u001b[0;36m<module>\u001b[1;34m\u001b[0m\n\u001b[1;32m----> 1\u001b[1;33m \u001b[0mprint\u001b[0m\u001b[1;33m(\u001b[0m\u001b[0mboundary_lines\u001b[0m\u001b[1;33m)\u001b[0m\u001b[1;33m\u001b[0m\u001b[1;33m\u001b[0m\u001b[0m\n\u001b[0m",
      "\u001b[1;31mNameError\u001b[0m: name 'boundary_lines' is not defined"
     ]
    }
   ],
   "source": [
    "print(boundary_lines)"
   ]
  },
  {
   "cell_type": "code",
   "execution_count": 10,
   "metadata": {},
   "outputs": [
    {
     "data": {
      "image/png": "[encoded data removed]",
      "text/plain": [
       "<Figure size 432x288 with 1 Axes>"
      ]
     },
     "metadata": {
      "needs_background": "light"
     },
     "output_type": "display_data"
    }
   ],
   "source": [
    "x = np.linspace(0,1,10)\n",
    "x1 = [3,1]\n",
    "x2 = [2,2]\n",
    "m = (x2[1]-x1[1]) / (x2[0]-x1[0])\n",
    "y = m*x + 1\n",
    "plt.scatter(df.X, df.Y, c=df.Outcome)\n",
    "plt.plot(x, y, '-g', label='y=2x+1')\n",
    "plt.grid()\n",
    "plt.show()"
   ]
  },
  {
   "cell_type": "code",
   "execution_count": 17,
   "metadata": {},
   "outputs": [
    {
     "name": "stdout",
     "output_type": "stream",
     "text": [
      "[[ 0.78051   -0.063669 ]\n",
      " [ 0.28774    0.29139  ]\n",
      " [ 0.40714    0.17878  ]\n",
      " [ 0.2923     0.4217   ]\n",
      " [ 0.50922    0.35256  ]\n",
      " [ 0.27785    0.10802  ]\n",
      " [ 0.27527    0.33223  ]\n",
      " [ 0.43999    0.31245  ]\n",
      " [ 0.33557    0.42984  ]\n",
      " [ 0.23448    0.24986  ]\n",
      " [ 0.0084492  0.13658  ]\n",
      " [ 0.12419    0.33595  ]\n",
      " [ 0.25644    0.42624  ]\n",
      " [ 0.4591     0.40426  ]\n",
      " [ 0.44547    0.45117  ]\n",
      " [ 0.42218    0.20118  ]\n",
      " [ 0.49563    0.21445  ]\n",
      " [ 0.30848    0.24306  ]\n",
      " [ 0.39707    0.44438  ]\n",
      " [ 0.32945    0.39217  ]\n",
      " [ 0.40739    0.40271  ]\n",
      " [ 0.3106     0.50702  ]\n",
      " [ 0.49638    0.45384  ]\n",
      " [ 0.10073    0.32053  ]\n",
      " [ 0.69907    0.37307  ]\n",
      " [ 0.29767    0.69648  ]\n",
      " [ 0.15099    0.57341  ]\n",
      " [ 0.16427    0.27759  ]\n",
      " [ 0.33259    0.055964 ]\n",
      " [ 0.53741    0.28637  ]\n",
      " [ 0.19503    0.36879  ]\n",
      " [ 0.40278    0.035148 ]\n",
      " [ 0.21296    0.55169  ]\n",
      " [ 0.48447    0.56991  ]\n",
      " [ 0.25476    0.34596  ]\n",
      " [ 0.21726    0.28641  ]\n",
      " [ 0.67078    0.46538  ]\n",
      " [ 0.3815     0.4622   ]\n",
      " [ 0.53838    0.32774  ]\n",
      " [ 0.4849     0.26071  ]\n",
      " [ 0.37095    0.38809  ]\n",
      " [ 0.54527    0.63911  ]\n",
      " [ 0.32149    0.12007  ]\n",
      " [ 0.42216    0.61666  ]\n",
      " [ 0.10194    0.060408 ]\n",
      " [ 0.15254    0.2168   ]\n",
      " [ 0.45558    0.43769  ]\n",
      " [ 0.28488    0.52142  ]\n",
      " [ 0.27633    0.21264  ]\n",
      " [ 0.39748    0.31902  ]\n",
      " [ 0.5533     1.       ]\n",
      " [ 0.44274    0.59205  ]\n",
      " [ 0.85176    0.6612   ]\n",
      " [ 0.60436    0.86605  ]\n",
      " [ 0.68243    0.48301  ]\n",
      " [ 1.         0.76815  ]\n",
      " [ 0.72989    0.8107   ]\n",
      " [ 0.67377    0.77975  ]\n",
      " [ 0.78761    0.58177  ]\n",
      " [ 0.71442    0.7668   ]\n",
      " [ 0.49379    0.54226  ]\n",
      " [ 0.78974    0.74233  ]\n",
      " [ 0.67905    0.60921  ]\n",
      " [ 0.6642     0.72519  ]\n",
      " [ 0.79396    0.56789  ]\n",
      " [ 0.70758    0.76022  ]\n",
      " [ 0.59421    0.61857  ]\n",
      " [ 0.49364    0.56224  ]\n",
      " [ 0.77707    0.35025  ]\n",
      " [ 0.79785    0.76921  ]\n",
      " [ 0.70876    0.96764  ]\n",
      " [ 0.69176    0.60865  ]\n",
      " [ 0.66408    0.92075  ]\n",
      " [ 0.65973    0.66666  ]\n",
      " [ 0.64574    0.56845  ]\n",
      " [ 0.89639    0.7085   ]\n",
      " [ 0.85476    0.63167  ]\n",
      " [ 0.62091    0.80424  ]\n",
      " [ 0.79057    0.56108  ]\n",
      " [ 0.58935    0.71582  ]\n",
      " [ 0.56846    0.7406   ]\n",
      " [ 0.65912    0.71548  ]\n",
      " [ 0.70938    0.74041  ]\n",
      " [ 0.59154    0.62927  ]\n",
      " [ 0.45829    0.4641   ]\n",
      " [ 0.79982    0.74847  ]\n",
      " [ 0.60974    0.54757  ]\n",
      " [ 0.68127    0.86985  ]\n",
      " [ 0.76694    0.64736  ]\n",
      " [ 0.69048    0.83058  ]\n",
      " [ 0.68122    0.96541  ]\n",
      " [ 0.73229    0.64245  ]\n",
      " [ 0.76145    0.60138  ]\n",
      " [ 0.58985    0.86955  ]\n",
      " [ 0.73145    0.74516  ]\n",
      " [ 0.77029    0.7014   ]\n",
      " [ 0.73156    0.71782  ]\n",
      " [ 0.44556    0.57991  ]\n",
      " [ 0.85275    0.85987  ]\n",
      " [ 0.51912    0.62359  ]]\n",
      "[1 1 1 1 1 1 1 1 1 1 1 1 1 1 1 1 1 1 1 1 1 1 1 1 1 1 1 1 1 1 1 1 1 1 1 1 1\n",
      " 1 1 1 1 1 1 1 1 1 1 1 1 1 0 0 0 0 0 0 0 0 0 0 0 0 0 0 0 0 0 0 0 0 0 0 0 0\n",
      " 0 0 0 0 0 0 0 0 0 0 0 0 0 0 0 0 0 0 0 0 0 0 0 0 0 0]\n"
     ]
    }
   ],
   "source": [
    "import matplotlib.pyplot as plt\n",
    "import pandas as pd\n",
    "data = pd.read_csv(\"Perceptron_Data2.csv\")\n",
    "X = data.iloc[:, 0:2].to_numpy()\n",
    "y = data.iloc[:,2].to_numpy()\n",
    "print(X)\n",
    "print(y)"
   ]
  },
  {
   "cell_type": "code",
   "execution_count": 19,
   "metadata": {},
   "outputs": [
    {
     "name": "stdout",
     "output_type": "stream",
     "text": [
      "[(array([-0.05239463]), array([-2.04919443])), (array([1.23772563]), array([-2.90815949])), (array([-39.47663703]), array([23.57864461])), (array([-13.13237331]), array([7.06473087])), (array([-9.11612538]), array([4.57527519])), (array([-7.79056954]), array([3.96940892])), (array([-6.7750263]), array([3.50523881])), (array([-5.97212608]), array([3.13826056])), (array([-5.32141098]), array([2.84084093])), (array([-4.78335796]), array([2.59491529])), (array([-4.33103935]), array([2.38817591])), (array([-4.09146109]), array([2.3928177])), (array([-3.80251597]), array([2.25914697])), (array([-3.54414571]), array([2.13962066])), (array([-3.31174122]), array([2.03210655])), (array([-3.10157551]), array([1.93488045])), (array([-2.91060228]), array([1.84653311])), (array([-2.73630733]), array([1.76590142])), (array([-2.57659722]), array([1.69201691])), (array([-2.4297148]), array([1.6240667])), (array([-2.29417429]), array([1.56136344])), (array([-2.16871083]), array([1.50332199])), (array([-2.05224089]), array([1.4494411])), (array([-1.94383093]), array([1.39928887])), (array([-1.84267226]), array([1.35249122]))]\n"
     ]
    },
    {
     "data": {
      "image/png": "[encoded data removed]",
      "text/plain": [
       "<Figure size 432x288 with 1 Axes>"
      ]
     },
     "metadata": {
      "needs_background": "light"
     },
     "output_type": "display_data"
    }
   ],
   "source": [
    "# Setting the random seed, feel free to change it and see different solutions.\n",
    "np.random.seed(42)\n",
    "\n",
    "def stepFunction(t):\n",
    "    if t >= 0:\n",
    "        return 1\n",
    "    return 0\n",
    "\n",
    "def prediction(X, W, b):\n",
    "    return stepFunction((np.matmul(X,W)+b)[0])\n",
    "\n",
    "# TODO: Fill in the code below to implement the perceptron trick.\n",
    "# The function should receive as inputs the data X, the labels y,\n",
    "# the weights W (as an array), and the bias b,\n",
    "# update the weights and bias W, b, according to the perceptron algorithm,\n",
    "# and return W and b.\n",
    "def perceptronStep(X, y, W, b, learn_rate = 0.01):\n",
    "    for i in range(len(X)):\n",
    "        y_hat = prediction(X[i],W,b)\n",
    "        if y[i]-y_hat == 1:\n",
    "            W[0] += X[i][0]*learn_rate\n",
    "            W[1] += X[i][1]*learn_rate\n",
    "            b += learn_rate\n",
    "        elif y[i]-y_hat == -1:\n",
    "            W[0] -= X[i][0]*learn_rate\n",
    "            W[1] -= X[i][1]*learn_rate\n",
    "            b -= learn_rate\n",
    "    return W, b\n",
    "    \n",
    "# This function runs the perceptron algorithm repeatedly on the dataset,\n",
    "# and returns a few of the boundary lines obtained in the iterations,\n",
    "# for plotting purposes.\n",
    "# Feel free to play with the learning rate and the num_epochs,\n",
    "# and see your results plotted below.\n",
    "def trainPerceptronAlgorithm(X, y, learn_rate = 0.01, num_epochs = 25):\n",
    "    x_min, x_max = min(X.T[0]), max(X.T[0])\n",
    "    y_min, y_max = min(X.T[1]), max(X.T[1])\n",
    "    W = np.array(np.random.rand(2,1))\n",
    "    b = np.random.rand(1)[0] + x_max\n",
    "    # These are the solution lines that get plotted below.\n",
    "    boundary_lines = []\n",
    "    for i in range(num_epochs):\n",
    "        # In each epoch, we apply the perceptron step.\n",
    "        W, b = perceptronStep(X, y, W, b, learn_rate)\n",
    "        boundary_lines.append((-W[0]/W[1], -b/W[1]))\n",
    "    return boundary_lines\n",
    "\n",
    "boundary_lines = trainPerceptronAlgorithm(X,y)\n",
    "\n",
    "\n",
    "\n",
    "print(boundary_lines)\n",
    "def abline(slope, intercept,i):\n",
    "    \"\"\"Plot a line from slope and intercept\"\"\"\n",
    "    axes = plt.gca()\n",
    "    x_vals = np.array(axes.get_xlim())\n",
    "    y_vals = intercept + slope * x_vals\n",
    "    plt.xlim(-0.0, 1.0)\n",
    "    plt.ylim(-0.0, 1.0)\n",
    "    if i == len(boundary_lines) - 1:\n",
    "        plt.plot(x_vals, y_vals,color='black')\n",
    "    else:\n",
    "        plt.plot(x_vals, y_vals, '--',color='green')\n",
    "    \n",
    "slope = [i[0][0] for i in boundary_lines]\n",
    "intercepts = [i[1][0] for i in boundary_lines]\n",
    "plt.scatter(X[:,0],X[:,1],c=y,marker='o',edgecolors='black',cmap='bwr')\n",
    "for i in range(len(slope)):\n",
    "    abline(slope[i],intercepts[i],i)"
   ]
  },
  {
   "cell_type": "code",
   "execution_count": null,
   "metadata": {},
   "outputs": [],
   "source": []
  }
 ],
 "metadata": {
  "kernelspec": {
   "display_name": "Python 3",
   "language": "python",
   "name": "python3"
  },
  "language_info": {
   "codemirror_mode": {
    "name": "ipython",
    "version": 3
   },
   "file_extension": ".py",
   "mimetype": "text/x-python",
   "name": "python",
   "nbconvert_exporter": "python",
   "pygments_lexer": "ipython3",
   "version": "3.7.3"
  }
 },
 "nbformat": 4,
 "nbformat_minor": 2
}
