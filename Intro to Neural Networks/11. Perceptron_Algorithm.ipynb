{
 "cells": [
  {
   "cell_type": "markdown",
   "metadata": {},
   "source": [
    "# Udacity Deep Learning Nanodegree - Perceptron Algorithm\n",
    "\n",
    "- Author : Navneet Kumar\n",
    "- Date : 5th June 2020\n",
    "\n",
    "-------"
   ]
  },
  {
   "cell_type": "markdown",
   "metadata": {},
   "source": [
    "Create a perceptron algorithm to segregate the red and blue sections - essentially code the line"
   ]
  },
  {
   "cell_type": "markdown",
   "metadata": {},
   "source": [
    "<img src=\"Ques.jpg\" width=\"500\" height=\"600\">"
   ]
  },
  {
   "cell_type": "code",
   "execution_count": null,
   "metadata": {},
   "outputs": [],
   "source": [
    "import numpy as np\n",
    "import pandas as pd\n",
    "import matplotlib as plt\n",
    "import seaborn as sns"
   ]
  },
  {
   "cell_type": "code",
   "execution_count": 7,
   "metadata": {},
   "outputs": [
    {
     "data": {
      "text/plain": [
       "<bound method NDFrame.head of     0.78051,-0.063669,1\n",
       "0     0.28774,0.29139,1\n",
       "1     0.40714,0.17878,1\n",
       "2       0.2923,0.4217,1\n",
       "3     0.50922,0.35256,1\n",
       "4     0.27785,0.10802,1\n",
       "5     0.27527,0.33223,1\n",
       "6     0.43999,0.31245,1\n",
       "7     0.33557,0.42984,1\n",
       "8     0.23448,0.24986,1\n",
       "9   0.0084492,0.13658,1\n",
       "10    0.12419,0.33595,1\n",
       "11    0.25644,0.42624,1\n",
       "12     0.4591,0.40426,1\n",
       "13    0.44547,0.45117,1\n",
       "14    0.42218,0.20118,1\n",
       "15    0.49563,0.21445,1\n",
       "16    0.30848,0.24306,1\n",
       "17    0.39707,0.44438,1\n",
       "18    0.32945,0.39217,1\n",
       "19    0.40739,0.40271,1\n",
       "20     0.3106,0.50702,1\n",
       "21    0.49638,0.45384,1\n",
       "22    0.10073,0.32053,1\n",
       "23    0.69907,0.37307,1\n",
       "24    0.29767,0.69648,1\n",
       "25    0.15099,0.57341,1\n",
       "26    0.16427,0.27759,1\n",
       "27   0.33259,0.055964,1\n",
       "28    0.53741,0.28637,1\n",
       "29    0.19503,0.36879,1\n",
       "..                  ...\n",
       "69    0.70876,0.96764,0\n",
       "70    0.69176,0.60865,0\n",
       "71    0.66408,0.92075,0\n",
       "72    0.65973,0.66666,0\n",
       "73    0.64574,0.56845,0\n",
       "74     0.89639,0.7085,0\n",
       "75    0.85476,0.63167,0\n",
       "76    0.62091,0.80424,0\n",
       "77    0.79057,0.56108,0\n",
       "78    0.58935,0.71582,0\n",
       "79     0.56846,0.7406,0\n",
       "80    0.65912,0.71548,0\n",
       "81    0.70938,0.74041,0\n",
       "82    0.59154,0.62927,0\n",
       "83     0.45829,0.4641,0\n",
       "84    0.79982,0.74847,0\n",
       "85    0.60974,0.54757,0\n",
       "86    0.68127,0.86985,0\n",
       "87    0.76694,0.64736,0\n",
       "88    0.69048,0.83058,0\n",
       "89    0.68122,0.96541,0\n",
       "90    0.73229,0.64245,0\n",
       "91    0.76145,0.60138,0\n",
       "92    0.58985,0.86955,0\n",
       "93    0.73145,0.74516,0\n",
       "94     0.77029,0.7014,0\n",
       "95    0.73156,0.71782,0\n",
       "96    0.44556,0.57991,0\n",
       "97    0.85275,0.85987,0\n",
       "98    0.51912,0.62359,0\n",
       "\n",
       "[99 rows x 1 columns]>"
      ]
     },
     "execution_count": 7,
     "metadata": {},
     "output_type": "execute_result"
    }
   ],
   "source": [
    "df = pd.read_csv(\"Perceptron_Data2.csv\")\n",
    "df.head(5)"
   ]
  },
  {
   "cell_type": "code",
   "execution_count": null,
   "metadata": {},
   "outputs": [],
   "source": []
  }
 ],
 "metadata": {
  "kernelspec": {
   "display_name": "Python 3",
   "language": "python",
   "name": "python3"
  },
  "language_info": {
   "codemirror_mode": {
    "name": "ipython",
    "version": 3
   },
   "file_extension": ".py",
   "mimetype": "text/x-python",
   "name": "python",
   "nbconvert_exporter": "python",
   "pygments_lexer": "ipython3",
   "version": "3.7.3"
  }
 },
 "nbformat": 4,
 "nbformat_minor": 2
}
